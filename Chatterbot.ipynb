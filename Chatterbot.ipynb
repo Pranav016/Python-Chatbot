{
  "nbformat": 4,
  "nbformat_minor": 0,
  "metadata": {
    "colab": {
      "name": "Chatterbot.ipynb",
      "provenance": [],
      "collapsed_sections": [],
      "authorship_tag": "ABX9TyPdvRVdYKyQ3VNkcch39IL7",
      "include_colab_link": true
    },
    "kernelspec": {
      "name": "python3",
      "display_name": "Python 3"
    }
  },
  "cells": [
    {
      "cell_type": "markdown",
      "metadata": {
        "id": "view-in-github",
        "colab_type": "text"
      },
      "source": [
        "<a href=\"https://colab.research.google.com/github/Pranav016/Python-Chatbot/blob/master/Chatterbot.ipynb\" target=\"_parent\"><img src=\"https://colab.research.google.com/assets/colab-badge.svg\" alt=\"Open In Colab\"/></a>"
      ]
    },
    {
      "cell_type": "code",
      "metadata": {
        "id": "d7DQWH3k_27c",
        "colab": {
          "base_uri": "https://localhost:8080/"
        },
        "outputId": "ff127929-96a9-4217-c95e-e18e5f37f497"
      },
      "source": [
        "!pip install chatterbot"
      ],
      "execution_count": 1,
      "outputs": [
        {
          "output_type": "stream",
          "text": [
            "Collecting chatterbot\n",
            "\u001b[?25l  Downloading https://files.pythonhosted.org/packages/7c/21/85c2b114bd9dfabdd46ba58fc4519acdaed45d8c70898d40079e37a45e67/ChatterBot-1.0.8-py2.py3-none-any.whl (63kB)\n",
            "\r\u001b[K     |█████▏                          | 10kB 15.5MB/s eta 0:00:01\r\u001b[K     |██████████▎                     | 20kB 9.3MB/s eta 0:00:01\r\u001b[K     |███████████████▌                | 30kB 8.3MB/s eta 0:00:01\r\u001b[K     |████████████████████▋           | 40kB 7.1MB/s eta 0:00:01\r\u001b[K     |█████████████████████████▊      | 51kB 5.3MB/s eta 0:00:01\r\u001b[K     |███████████████████████████████ | 61kB 5.9MB/s eta 0:00:01\r\u001b[K     |████████████████████████████████| 71kB 3.4MB/s \n",
            "\u001b[?25hCollecting mathparse<0.2,>=0.1\n",
            "  Downloading https://files.pythonhosted.org/packages/c3/e5/4910fb85950cb960fcf3f5aabe1c8e55f5c9201788a1c1302b570a7e1f84/mathparse-0.1.2-py3-none-any.whl\n",
            "Requirement already satisfied: pytz in /usr/local/lib/python3.6/dist-packages (from chatterbot) (2018.9)\n",
            "Requirement already satisfied: sqlalchemy<1.4,>=1.3 in /usr/local/lib/python3.6/dist-packages (from chatterbot) (1.3.20)\n",
            "Requirement already satisfied: python-dateutil<2.9,>=2.8 in /usr/local/lib/python3.6/dist-packages (from chatterbot) (2.8.1)\n",
            "Requirement already satisfied: six>=1.5 in /usr/local/lib/python3.6/dist-packages (from python-dateutil<2.9,>=2.8->chatterbot) (1.15.0)\n",
            "Installing collected packages: mathparse, chatterbot\n",
            "Successfully installed chatterbot-1.0.8 mathparse-0.1.2\n"
          ],
          "name": "stdout"
        }
      ]
    },
    {
      "cell_type": "code",
      "metadata": {
        "id": "3zpUf0IjJ9aO",
        "colab": {
          "base_uri": "https://localhost:8080/"
        },
        "outputId": "4198274b-4634-4829-f31f-c58b41460816"
      },
      "source": [
        "!pip install chatterbot_corpus"
      ],
      "execution_count": 2,
      "outputs": [
        {
          "output_type": "stream",
          "text": [
            "Collecting chatterbot_corpus\n",
            "\u001b[?25l  Downloading https://files.pythonhosted.org/packages/ed/19/f8b41daf36fe4b0f43e283a820362ffdb2c1128600ab4ee187e84262fa4d/chatterbot_corpus-1.2.0-py2.py3-none-any.whl (117kB)\n",
            "\r\u001b[K     |██▉                             | 10kB 12.3MB/s eta 0:00:01\r\u001b[K     |█████▋                          | 20kB 16.8MB/s eta 0:00:01\r\u001b[K     |████████▍                       | 30kB 13.0MB/s eta 0:00:01\r\u001b[K     |███████████▏                    | 40kB 9.6MB/s eta 0:00:01\r\u001b[K     |██████████████                  | 51kB 5.3MB/s eta 0:00:01\r\u001b[K     |████████████████▊               | 61kB 5.7MB/s eta 0:00:01\r\u001b[K     |███████████████████▋            | 71kB 5.9MB/s eta 0:00:01\r\u001b[K     |██████████████████████▍         | 81kB 6.3MB/s eta 0:00:01\r\u001b[K     |█████████████████████████▏      | 92kB 6.5MB/s eta 0:00:01\r\u001b[K     |████████████████████████████    | 102kB 6.7MB/s eta 0:00:01\r\u001b[K     |██████████████████████████████▊ | 112kB 6.7MB/s eta 0:00:01\r\u001b[K     |████████████████████████████████| 122kB 6.7MB/s \n",
            "\u001b[?25hRequirement already satisfied: PyYAML<4.0,>=3.12 in /usr/local/lib/python3.6/dist-packages (from chatterbot_corpus) (3.13)\n",
            "Installing collected packages: chatterbot-corpus\n",
            "Successfully installed chatterbot-corpus-1.2.0\n"
          ],
          "name": "stdout"
        }
      ]
    },
    {
      "cell_type": "code",
      "metadata": {
        "id": "dNnKTvpM_8h6"
      },
      "source": [
        "from chatterbot import ChatBot"
      ],
      "execution_count": 3,
      "outputs": []
    },
    {
      "cell_type": "code",
      "metadata": {
        "id": "34JnpuLFAk67"
      },
      "source": [
        "bot = ChatBot(\n",
        "    'Pranav',  \n",
        "    logic_adapters=[\n",
        "        'chatterbot.logic.BestMatch',\n",
        "        'chatterbot.logic.TimeLogicAdapter'],\n",
        ")"
      ],
      "execution_count": 4,
      "outputs": []
    },
    {
      "cell_type": "code",
      "metadata": {
        "id": "1HIfQfQNAqP0"
      },
      "source": [
        "from chatterbot.trainers import ChatterBotCorpusTrainer"
      ],
      "execution_count": 5,
      "outputs": []
    },
    {
      "cell_type": "code",
      "metadata": {
        "id": "OFLmWD_ZKQvG"
      },
      "source": [
        "trainer = ChatterBotCorpusTrainer(bot)"
      ],
      "execution_count": 6,
      "outputs": []
    },
    {
      "cell_type": "code",
      "metadata": {
        "id": "47NnbZQsKT_w",
        "colab": {
          "base_uri": "https://localhost:8080/"
        },
        "outputId": "a579fadb-897c-4f6a-8e2e-49e0264bc3cf"
      },
      "source": [
        "trainer.train('chatterbot.corpus.english')"
      ],
      "execution_count": 9,
      "outputs": [
        {
          "output_type": "stream",
          "text": [
            "Training ai.yml: [####################] 100%\n",
            "Training botprofile.yml: [####################] 100%\n",
            "Training computers.yml: [####################] 100%\n",
            "Training conversations.yml: [####################] 100%\n",
            "Training emotion.yml: [####################] 100%\n",
            "Training food.yml: [####################] 100%\n",
            "Training gossip.yml: [####################] 100%\n",
            "Training greetings.yml: [####################] 100%\n",
            "Training health.yml: [####################] 100%\n",
            "Training history.yml: [####################] 100%\n",
            "Training humor.yml: [####################] 100%\n",
            "Training literature.yml: [####################] 100%\n",
            "Training money.yml: [####################] 100%\n",
            "Training movies.yml: [####################] 100%\n",
            "Training politics.yml: [####################] 100%\n",
            "Training psychology.yml: [####################] 100%\n",
            "Training science.yml: [####################] 100%\n",
            "Training sports.yml: [####################] 100%\n",
            "Training trivia.yml: [####################] 100%\n"
          ],
          "name": "stdout"
        }
      ]
    },
    {
      "cell_type": "code",
      "metadata": {
        "id": "Q-6-d-l9KbQ-",
        "colab": {
          "base_uri": "https://localhost:8080/"
        },
        "outputId": "14d17140-eab5-49d2-eb35-47fcba517650"
      },
      "source": [
        "name=input(\"Enter Your Name: \")\n",
        "print(\"Hi \"+name+\", how can I help you?\")\n",
        "while True:\n",
        "    request=input(name+':')\n",
        "    if request=='Bye' or request =='bye':\n",
        "        print('Pranav: Bye')\n",
        "        break\n",
        "    else:\n",
        "        response=bot.get_response(request)\n",
        "        # get_reponses() is a method of chatbot instance\n",
        "        print('Pranav:',response)"
      ],
      "execution_count": 12,
      "outputs": [
        {
          "output_type": "stream",
          "text": [
            "Enter Your Name: Sam\n",
            "Hi Sam, how can I help you?\n",
            "Sam:Tell me some history\n",
            "Pranav: history has two broad interpretations, depending on whether you accept the role of individuals as important or not.\n",
            "Sam:What is a computer\n",
            "Pranav: A computer is an electronic device which takes information in digital form and performs a series of operations based on predetermined instructions to give some output.\n",
            "Sam:Tell me a joke\n",
            "Pranav: Did you hear the one about the mountain goats in the andes? It was \"ba a a a a a d\".\n",
            "Sam:Can you feel?\n",
            "Pranav: Maybe I can. I am a fairly sophisticated piece of software.\n",
            "Sam:bye\n",
            "Pranav: Bye\n"
          ],
          "name": "stdout"
        }
      ]
    },
    {
      "cell_type": "code",
      "metadata": {
        "id": "-4NVLkLgKkli"
      },
      "source": [
        ""
      ],
      "execution_count": 8,
      "outputs": []
    }
  ]
}