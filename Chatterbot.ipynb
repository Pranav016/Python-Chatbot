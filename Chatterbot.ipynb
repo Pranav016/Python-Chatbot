{
  "nbformat": 4,
  "nbformat_minor": 0,
  "metadata": {
    "colab": {
      "name": "Chatterbot.ipynb",
      "provenance": [],
      "authorship_tag": "ABX9TyPClhcvRnrxaETYnMfCehpV",
      "include_colab_link": true
    },
    "kernelspec": {
      "name": "python3",
      "display_name": "Python 3"
    }
  },
  "cells": [
    {
      "cell_type": "markdown",
      "metadata": {
        "id": "view-in-github",
        "colab_type": "text"
      },
      "source": [
        "<a href=\"https://colab.research.google.com/github/Pranav016/Python-Chatbot/blob/master/Chatterbot.ipynb\" target=\"_parent\"><img src=\"https://colab.research.google.com/assets/colab-badge.svg\" alt=\"Open In Colab\"/></a>"
      ]
    },
    {
      "cell_type": "code",
      "metadata": {
        "id": "d7DQWH3k_27c",
        "outputId": "d494a712-c94f-468d-a1e5-54d80e15cd0a",
        "colab": {
          "base_uri": "https://localhost:8080/"
        }
      },
      "source": [
        "!pip install chatterbot"
      ],
      "execution_count": 3,
      "outputs": [
        {
          "output_type": "stream",
          "text": [
            "Collecting chatterbot\n",
            "\u001b[?25l  Downloading https://files.pythonhosted.org/packages/7c/21/85c2b114bd9dfabdd46ba58fc4519acdaed45d8c70898d40079e37a45e67/ChatterBot-1.0.8-py2.py3-none-any.whl (63kB)\n",
            "\r\u001b[K     |█████▏                          | 10kB 16.1MB/s eta 0:00:01\r\u001b[K     |██████████▎                     | 20kB 21.7MB/s eta 0:00:01\r\u001b[K     |███████████████▌                | 30kB 20.4MB/s eta 0:00:01\r\u001b[K     |████████████████████▋           | 40kB 11.5MB/s eta 0:00:01\r\u001b[K     |█████████████████████████▊      | 51kB 7.4MB/s eta 0:00:01\r\u001b[K     |███████████████████████████████ | 61kB 7.9MB/s eta 0:00:01\r\u001b[K     |████████████████████████████████| 71kB 4.6MB/s \n",
            "\u001b[?25hRequirement already satisfied: sqlalchemy<1.4,>=1.3 in /usr/local/lib/python3.6/dist-packages (from chatterbot) (1.3.20)\n",
            "Collecting mathparse<0.2,>=0.1\n",
            "  Downloading https://files.pythonhosted.org/packages/c3/e5/4910fb85950cb960fcf3f5aabe1c8e55f5c9201788a1c1302b570a7e1f84/mathparse-0.1.2-py3-none-any.whl\n",
            "Requirement already satisfied: python-dateutil<2.9,>=2.8 in /usr/local/lib/python3.6/dist-packages (from chatterbot) (2.8.1)\n",
            "Requirement already satisfied: pytz in /usr/local/lib/python3.6/dist-packages (from chatterbot) (2018.9)\n",
            "Requirement already satisfied: six>=1.5 in /usr/local/lib/python3.6/dist-packages (from python-dateutil<2.9,>=2.8->chatterbot) (1.15.0)\n",
            "Installing collected packages: mathparse, chatterbot\n",
            "Successfully installed chatterbot-1.0.8 mathparse-0.1.2\n"
          ],
          "name": "stdout"
        }
      ]
    },
    {
      "cell_type": "code",
      "metadata": {
        "id": "3zpUf0IjJ9aO",
        "outputId": "41f12228-3152-4f5e-f5ab-62ea13c9e744",
        "colab": {
          "base_uri": "https://localhost:8080/"
        }
      },
      "source": [
        "!pip install chatterbot_corpus"
      ],
      "execution_count": 4,
      "outputs": [
        {
          "output_type": "stream",
          "text": [
            "Collecting chatterbot_corpus\n",
            "\u001b[?25l  Downloading https://files.pythonhosted.org/packages/ed/19/f8b41daf36fe4b0f43e283a820362ffdb2c1128600ab4ee187e84262fa4d/chatterbot_corpus-1.2.0-py2.py3-none-any.whl (117kB)\n",
            "\r\u001b[K     |██▉                             | 10kB 16.9MB/s eta 0:00:01\r\u001b[K     |█████▋                          | 20kB 22.5MB/s eta 0:00:01\r\u001b[K     |████████▍                       | 30kB 14.0MB/s eta 0:00:01\r\u001b[K     |███████████▏                    | 40kB 9.4MB/s eta 0:00:01\r\u001b[K     |██████████████                  | 51kB 5.6MB/s eta 0:00:01\r\u001b[K     |████████████████▊               | 61kB 6.5MB/s eta 0:00:01\r\u001b[K     |███████████████████▋            | 71kB 7.4MB/s eta 0:00:01\r\u001b[K     |██████████████████████▍         | 81kB 8.2MB/s eta 0:00:01\r\u001b[K     |█████████████████████████▏      | 92kB 8.5MB/s eta 0:00:01\r\u001b[K     |████████████████████████████    | 102kB 8.7MB/s eta 0:00:01\r\u001b[K     |██████████████████████████████▊ | 112kB 8.7MB/s eta 0:00:01\r\u001b[K     |████████████████████████████████| 122kB 8.7MB/s \n",
            "\u001b[?25hRequirement already satisfied: PyYAML<4.0,>=3.12 in /usr/local/lib/python3.6/dist-packages (from chatterbot_corpus) (3.13)\n",
            "Installing collected packages: chatterbot-corpus\n",
            "Successfully installed chatterbot-corpus-1.2.0\n"
          ],
          "name": "stdout"
        }
      ]
    },
    {
      "cell_type": "code",
      "metadata": {
        "id": "dNnKTvpM_8h6"
      },
      "source": [
        "from chatterbot import ChatBot"
      ],
      "execution_count": 5,
      "outputs": []
    },
    {
      "cell_type": "code",
      "metadata": {
        "id": "34JnpuLFAk67"
      },
      "source": [
        "bot = ChatBot(\n",
        "    'Pranav',  \n",
        "    logic_adapters=[\n",
        "        'chatterbot.logic.BestMatch',\n",
        "        'chatterbot.logic.TimeLogicAdapter'],\n",
        ")"
      ],
      "execution_count": 6,
      "outputs": []
    },
    {
      "cell_type": "code",
      "metadata": {
        "id": "1HIfQfQNAqP0"
      },
      "source": [
        "from chatterbot.trainers import ListTrainer"
      ],
      "execution_count": 7,
      "outputs": []
    },
    {
      "cell_type": "code",
      "metadata": {
        "id": "OFLmWD_ZKQvG"
      },
      "source": [
        "trainer = ListTrainer(bot)"
      ],
      "execution_count": 8,
      "outputs": []
    },
    {
      "cell_type": "code",
      "metadata": {
        "id": "47NnbZQsKT_w",
        "outputId": "b25df833-c3bd-45c1-a019-354d2ae09b98",
        "colab": {
          "base_uri": "https://localhost:8080/"
        }
      },
      "source": [
        "trainer.train([\n",
        "'Hi',\n",
        "'Hello',\n",
        "'I need your assistance regarding my order',\n",
        "'Please, Provide me with your order id',\n",
        "'I have a complaint.',\n",
        "'Please elaborate, your concern',\n",
        "'How long it will take to receive an order ?',\n",
        "'An order takes 3-5 Business days to get delivered.',\n",
        "'Okay Thanks',\n",
        "'No Problem! Have a Good Day!'\n",
        "])"
      ],
      "execution_count": 9,
      "outputs": [
        {
          "output_type": "stream",
          "text": [
            "List Trainer: [####################] 100%\n"
          ],
          "name": "stdout"
        }
      ]
    },
    {
      "cell_type": "code",
      "metadata": {
        "id": "Q-6-d-l9KbQ-",
        "outputId": "a3d5ec42-3c38-4775-8ab3-acc791ea8ee1",
        "colab": {
          "base_uri": "https://localhost:8080/"
        }
      },
      "source": [
        "name=input(\"Enter Your Name: \")\n",
        "print(\"Welcome to the Bot Service! Let me know how can I help you?\")\n",
        "while True:\n",
        "    request=input(name+':')\n",
        "    if request=='Bye' or request =='bye':\n",
        "        print('Bot: Bye')\n",
        "        break\n",
        "    else:\n",
        "        response=bot.get_response(request)\n",
        "        print('Bot:',response)"
      ],
      "execution_count": 13,
      "outputs": [
        {
          "output_type": "stream",
          "text": [
            "Enter Your Name: Pranav\n",
            "Welcome to the Bot Service! Let me know how can I help you?\n",
            "Pranav:Hi\n",
            "Bot: Hello\n",
            "Pranav:What is the Time\n",
            "Bot: The current time is 10:27 PM\n",
            "Pranav:bye\n",
            "Bot: Bye\n"
          ],
          "name": "stdout"
        }
      ]
    },
    {
      "cell_type": "code",
      "metadata": {
        "id": "-4NVLkLgKkli"
      },
      "source": [
        ""
      ],
      "execution_count": 13,
      "outputs": []
    }
  ]
}